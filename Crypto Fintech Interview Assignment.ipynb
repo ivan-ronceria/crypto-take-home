{
 "cells": [
  {
   "cell_type": "markdown",
   "id": "970f0f00",
   "metadata": {},
   "source": [
    "# Anonymous Crypto Fintech Company\n",
    "## Analyst <br>Take Home Python Assignment <br>Ivan Ronceria\n",
    "\n",
    "### This is a passing solution bank for a python take home assignment given by an anonymous crypto fintech company.\n"
   ]
  },
  {
   "cell_type": "markdown",
   "id": "0f817dc6",
   "metadata": {},
   "source": [
    "### Question 1\n",
    "\n",
    "The Grayscale Bitcoin Trust (GBTC) is commonly used as collateral in the institutional crypto\n",
    "lending market. GBTC was created to track the price of BTC, but it currently trades at a discount to\n",
    "its Net Asset Value (NAV).\n",
    "\n",
    "Please write a script using Python to construct a price and discount estimate for GBTC. Please use\n",
    "the CryptoCompare API (sign up for a free CryptoCompare API key <a href=\"https://min-api.cryptocompare.com/pricing\" target=\"_blank\">here</a>) and the <a href=\"https://www.cnbc.com/quotes/GBTC\" target=\"_blank\">CNBC quote</a>) for\n",
    "GBTC for this project. You can assume that there is 0.00092683 BTC per share of GBTC."
   ]
  },
  {
   "cell_type": "markdown",
   "id": "877ca145",
   "metadata": {},
   "source": [
    "#### Solution"
   ]
  },
  {
   "cell_type": "markdown",
   "id": "9b08217b",
   "metadata": {},
   "source": [
    "We begin by importing the required packages for both question 1 and 2."
   ]
  },
  {
   "cell_type": "code",
   "execution_count": null,
   "id": "491eb140",
   "metadata": {},
   "outputs": [],
   "source": [
    "from bs4 import BeautifulSoup\n",
    "import json\n",
    "import requests\n",
    "import datetime\n",
    "import time\n",
    "import pandas as pd"
   ]
  },
  {
   "cell_type": "markdown",
   "id": "94815460",
   "metadata": {},
   "source": [
    "Next, we define some constants as well.\n",
    "\n",
    "* **CC_SECRET_KEY** - This is the secret key necessary to access the CryptoCompare API\n",
    "\n",
    "* **QUOTE_CURRENCY** - For the sake of this assignment, we wish to quote in USD. However, you may change to whatever coin or currency available to the CC API and should still work\n",
    "\n",
    "* **SYMBOL** - Needed for Q2. Pass any available coin from the CC API\n",
    "\n",
    "* **MAX_MINS** - This is the maximum dataframe size. This is necessary mostly for Q2. It is set by default to 720 because it is unnecesary to call the maximum data limit (2000), but you can change it to higher value than 720. Changing it lower to 720 will break the code.\n",
    "\n",
    "* **URL_SINGLE_PRICE** and **URL_MINUTE_OHLCV** - Used for requests.\n",
    "\n",
    "* **HEADERS** - Used to pass the authentication information to request payload."
   ]
  },
  {
   "cell_type": "code",
   "execution_count": null,
   "id": "92d4130c",
   "metadata": {},
   "outputs": [],
   "source": [
    "CC_SECRET_KEY = \"d3a5b51ce275baa2ee05a6169f7c99fe55abaa9d81ccc6e9803f3a4892ee9ad5\"\n",
    "QUOTE_CURRENCY = \"USD\"\n",
    "SYMBOL = input(\"Please enter the coin you wish to study: \")\n",
    "\n",
    "MAX_MINS = 720\n",
    "\n",
    "URL_SINGLE_PRICE = \"https://min-api.cryptocompare.com/data/price\"\n",
    "URL_MINUTE_OHLCV = \"https://min-api.cryptocompare.com/data/v2/histominute\"\n",
    "\n",
    "HEADERS = {\n",
    "        \"authorization\": \"Apikey \" + CC_SECRET_KEY\n",
    "    }"
   ]
  },
  {
   "cell_type": "markdown",
   "id": "92733a42",
   "metadata": {},
   "source": [
    "This is the main block to provide a solution for Q1. The function gbtc_discount_ratio() calculates the discount-to-NAV ratio for GBTC, which is the percentage difference between the theoretical value of the trust fund and it's observed market price. When the ratio is negative, fund is trading lower than its theoretical value, and hence at a discount(cheap), and vis-versa, at a premium if the ratio is positive.\n",
    "\n",
    "To achieve this, we need the CNBC quote for the observed market price and the price of BTCUSD to calculate the GBTC's NAV (which is BTC per share * BTC Price). We will use BeautifulSoup and the CC API for market price of GBTC and the spot price of BTC, respectively.\n",
    "\n",
    "There are two portions then which are commented below: the **BeautifulSoup** portion and the **CC API** portion. \n",
    "\n",
    "The BeautifulSoup portion basically gets all the HTML code located on the CNBC page that provides quotes for GBTC. It then grabs the quote from the HTML and converts it to float number to make it readily available for the discount-to-NAV calculation.\n",
    "\n",
    "The CC API portion is the main calculation and contributes the final proposed solution. "
   ]
  },
  {
   "cell_type": "code",
   "execution_count": null,
   "id": "6edfe7f7",
   "metadata": {},
   "outputs": [],
   "source": [
    "def gbtc_discount_ratio():\n",
    "    #BeautifulSoup portion\n",
    "    html = requests.get(\"https://www.cnbc.com/quotes/GBTC\").content\n",
    "    soup = BeautifulSoup(html, 'lxml')\n",
    "    gbtc_price_container = soup.find('span', attrs = {'class':\"QuoteStrip-lastPrice\"})\n",
    "    market_price = float(gbtc_price_container.text)\n",
    "    print(\"GBTC is currently trading at \" + str(market_price))\n",
    "    \n",
    "    #CC API portion\n",
    "    btc_per_share = 0.00092683\n",
    "    payload = {\n",
    "        \"fsym\": \"BTC\",\n",
    "        \"tsyms\": QUOTE_CURRENCY\n",
    "    }\n",
    "    btc_price = requests.get(URL_SINGLE_PRICE, headers = HEADERS, params=payload).json()\n",
    "    #Discount-to-NAV Equation\n",
    "    discount = 100 * ((market_price / (btc_per_share * btc_price[\"USD\"])) - 1)\n",
    "    print(\"The discount ratio for GBTC is currently at \" + str(round(discount, 3)) + \"%\")\n",
    "    return\n",
    "\n",
    "gbtc_discount_ratio()\n"
   ]
  },
  {
   "cell_type": "markdown",
   "id": "2bf7eaf6",
   "metadata": {},
   "source": [
    "\n",
    "\n",
    "### Question 2"
   ]
  },
  {
   "cell_type": "markdown",
   "id": "37497c99",
   "metadata": {},
   "source": [
    "Please write a script that will trigger price alert messages according to the below parameters, using\n",
    "historical data from the CryptoCompare API Your script should be able to work for any commonly\n",
    "used crypto assets (e.g. BTC, ETH, SOL) listed on CryptoCompare.\n",
    "\n",
    "\n",
    "+/- 1.00% over 2 minutes\n",
    "<br>+/- 2.00% over 5 minutes\n",
    "<br>+/- 3.00% over 15 minutes\n",
    "<br>+/- 4.00% over 90 minutes\n",
    "<br>+/- 5.00% over 12 hours"
   ]
  },
  {
   "cell_type": "markdown",
   "id": "b69afcca",
   "metadata": {},
   "source": [
    "#### Solution"
   ]
  },
  {
   "cell_type": "markdown",
   "id": "3f6f2163",
   "metadata": {},
   "source": [
    "We have three functions necessary for this solution:\n",
    "\n",
    "* **minute_price_hist()** - This function generates the data necessary for the percentage change calculations. We send the payload in the JSON structure as required by CC. Below are the following parameter definitions.\n",
    "> **symbol** - Accepts a valid coin ticker symbol in string format <br> **limit**  - Passes the amount of requested  rows of available data for the symbol of interest. As previously mentioned, 2,000 is the maximum limit.<br> **aggregate** - Set to 1. This is because we need minute-by-minute data. There is a range of valid values, up to 30. If we set it 30, we will get data points in 30 minute increments.<br> **exchange** - Set to ''. Uses CC API proprietary price aggregation model to generate a price for the symbol of interest. You can change it to a specific exchange if one wishes to.\n",
    "\n",
    "* **percent_change** - This function performs the percent change calculation between a new and old close\n",
    "> **delta** - Specifies the desired amount of unit difference in time between two closes\n",
    "\n",
    "* **alerts** - The function performs the necessary conditional comparisons across different time frames as required. To understand this function, let's walk through an example. If we pass 2 as an argument for **alerts()**, it is passed into **mod_mins** (*mod_mins takes care of the fact that when performing percentage change on a list, the first entry is the 0th entry. If we did not offset by one, we would be performing minute-by-minute % change in this example*). The variable **mod_mins** is passed into the **percent_change()** function, where the rate of change is stored for later comparision for the appropriate conditional if statements as the **pct_chg** variable.\n",
    "> **minutes** - Takes an integer value of minutes that you would like the function to run through the condtional if engine"
   ]
  },
  {
   "cell_type": "code",
   "execution_count": null,
   "id": "035e450f",
   "metadata": {},
   "outputs": [],
   "source": [
    "def minute_price_hist(symbol, limit, aggregate = 1, exchange = ''): \n",
    "    payload = {\n",
    "        \"fsym\": symbol,\n",
    "        \"tsym\": QUOTE_CURRENCY,\n",
    "        \"limit\": limit,\n",
    "        \"aggregate\": aggregate,\n",
    "        \"e:\": exchange\n",
    "        }\n",
    "\n",
    "    result = requests.get(URL_MINUTE_OHLCV, headers = HEADERS, params = payload).json()\n",
    "    data = pd.DataFrame(result[\"Data\"][\"Data\"])\n",
    "   \n",
    "    return data\n",
    "\n",
    "def percent_change(delta):\n",
    "    new = data[\"close\"].iloc[-1]\n",
    "    old = data[\"close\"].iloc[-delta]\n",
    "\n",
    "    return (((new - old) / old) * 100)\n",
    "\n",
    "def alerts(minutes):\n",
    "    #See the Jupyter notebook for notes on this variable\n",
    "    mod_mins = minutes + 1\n",
    "    \n",
    "    pct_chg = percent_change(mod_mins)\n",
    "    #The assignment asked for certain absolute value rates of change across different timeframes,\n",
    "    #but you may change them to custom values by changing the list below.\n",
    "    \n",
    "    #If one wishes to see if the alerts() function works properly, set all of the values in the list to 0\n",
    "    #abs_chg = [0,0,0,0,0]\n",
    "    abs_chg = [1,2,3,4,5]\n",
    "    \n",
    "    #Grabs the current time\n",
    "    now = datetime.datetime.now()\n",
    "    \n",
    "    #Conditional If Engine. As minutes and absolute percent change conditions are met, statements are printed.\n",
    "    if minutes >= 2 and minutes <= 4:\n",
    "        if abs(pct_chg) >= abs_chg[0]:\n",
    "            print(now.strftime(\"%H:%M:%S\") + \" The price of \" + SYMBOL + \"/\" + QUOTE_CURRENCY +  \" has changed by \" + str(round((pct_chg), 2)) + \\\n",
    "                  \"% over the past \" + str(minutes) + \" minutes\")\n",
    "    elif minutes >= 5 and minutes <= 14:\n",
    "        if abs(pct_chg) >= abs_chg[1]:\n",
    "            print(now.strftime(\"%H:%M:%S\") + \" The price of \" + SYMBOL + \"/\" + QUOTE_CURRENCY +  \" has changed by \" + str(round((pct_chg), 2)) + \\\n",
    "                  \"% over the past \" + str(minutes) + \" minutes\")    \n",
    "    elif minutes >= 15 and minutes <= 89:\n",
    "        if abs(pct_chg) >= abs_chg[2]:\n",
    "            print(now.strftime(\"%H:%M:%S\") + \" The price of \" + SYMBOL + \"/\" + QUOTE_CURRENCY +  \" has changed by \" + str(round((pct_chg), 2)) + \\\n",
    "                  \"% over the past \" + str(minutes) + \" minutes\")\n",
    "    elif minutes >= 90 and minutes <= 719:\n",
    "        if abs(pct_chg) >= abs_chg[3]:\n",
    "            print(now.strftime(\"%H:%M:%S\") + \" The price of \" + SYMBOL + \"/\" + QUOTE_CURRENCY +  \" has changed by \" + str(round((pct_chg), 2)) + \\\n",
    "                  \"% over the past \" + str(minutes / 60) + \" hours\")\n",
    "    elif minutes >= 720:\n",
    "        if abs(pct_chg) >= abs_chg[4]:\n",
    "            print(now.strftime(\"%H:%M:%S\") + \" The price of \" + SYMBOL + \"/\" + QUOTE_CURRENCY + \" has changed by \" + str(round((pct_chg), 2)) + \\\n",
    "                  \"% over the past \" + str(minutes / 60) + \" hours\")\n",
    "    return"
   ]
  },
  {
   "cell_type": "markdown",
   "id": "61e72497",
   "metadata": {},
   "source": [
    "The main block that provides a solution for Q2. The assignment requested for alerts at 2, 5, 15, 90, and 720 (12 hours) minutes. However, you may change it to custom timeframes. However, none of the value may exceed **MAX_MINS** or the code will break. The loop_rate sets how quickly the infinite while loop will carry out. In this case, loop_rate is set to 5 seconds.\n",
    "\n",
    "The simplified loop flow goes as follows:\n",
    "1. Grab the minute historical data for the symbol of interest<br>\n",
    "2. Call the alerts() function at the 5 desired alter times, which prints whatever required conditions are met<br>\n",
    "3. Pause the loop for the desired amount of time\n",
    "4. Repeat"
   ]
  },
  {
   "cell_type": "code",
   "execution_count": null,
   "id": "5ebdc30c",
   "metadata": {},
   "outputs": [],
   "source": [
    "alert_times = [2,5,15,90,720]\n",
    "loop_rate  = 5\n",
    "\n",
    "while True:    \n",
    "    data = minute_price_hist(SYMBOL, MAX_MINS)\n",
    "    \n",
    "    alerts(alert_times[0])\n",
    "    alerts(alert_times[1])\n",
    "    alerts(alert_times[2])\n",
    "    alerts(alert_times[3])\n",
    "    alerts(alert_times[4])\n",
    "\n",
    "    print(\"------------------------\")    \n",
    "    time.sleep(loop_rate)"
   ]
  },
  {
   "cell_type": "code",
   "execution_count": null,
   "id": "4116e043",
   "metadata": {},
   "outputs": [],
   "source": []
  }
 ],
 "metadata": {
  "kernelspec": {
   "display_name": "Python 3 (ipykernel)",
   "language": "python",
   "name": "python3"
  },
  "language_info": {
   "codemirror_mode": {
    "name": "ipython",
    "version": 3
   },
   "file_extension": ".py",
   "mimetype": "text/x-python",
   "name": "python",
   "nbconvert_exporter": "python",
   "pygments_lexer": "ipython3",
   "version": "3.9.7"
  }
 },
 "nbformat": 4,
 "nbformat_minor": 5
}
